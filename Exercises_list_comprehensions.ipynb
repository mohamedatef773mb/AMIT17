{
  "nbformat": 4,
  "nbformat_minor": 0,
  "metadata": {
    "colab": {
      "provenance": []
    },
    "kernelspec": {
      "name": "python3",
      "display_name": "Python 3"
    },
    "language_info": {
      "name": "python"
    }
  },
  "cells": [
    {
      "cell_type": "markdown",
      "source": [
        "## Exercise:\n",
        "\n",
        "- You have a list of strings that contain messy text data. Your task is to clean the text by performing the following operations using list comprehensions:\n",
        "\n",
        "1. Remove leading and trailing whitespace from each string.\n",
        "2. Convert all characters to lowercase.\n",
        "3. Remove any non-alphanumeric characters (except spaces).\n",
        "4. Replace multiple spaces with a single space."
      ],
      "metadata": {
        "id": "RsPJmlPZF3KC"
      }
    },
    {
      "cell_type": "code",
      "execution_count": 1,
      "metadata": {
        "id": "OKc-C_YpFtU0"
      },
      "outputs": [],
      "source": [
        "raw_data = [\n",
        "    \"  Hello, World!   \",\n",
        "    \"Python   is Great.   \",\n",
        "    \"Data-Science? Is Amazing!!  \",\n",
        "    \" Clean    Your  DATA!!!   \"\n",
        "]\n"
      ]
    },
    {
      "cell_type": "markdown",
      "source": [
        "## Goal:\n",
        "\n",
        "- Create a cleaned version of the raw_data list using list comprehensions. The expected output should be:"
      ],
      "metadata": {
        "id": "ma_fPPhUGIh7"
      }
    },
    {
      "cell_type": "code",
      "source": [
        "cleaned_data = [\n",
        "    \"hello world\",\n",
        "    \"python is great\",\n",
        "    \"data science is amazing\",\n",
        "    \"clean your data\"\n",
        "]\n"
      ],
      "metadata": {
        "id": "hDg7Kx_RGGzJ"
      },
      "execution_count": 2,
      "outputs": []
    },
    {
      "cell_type": "markdown",
      "source": [
        "## Exercise Set:\n",
        "\n",
        "- You have a list of strings that contain messy text data. Your task is to clean the text by performing the following operations:\n",
        "\n",
        "1. Remove leading and trailing whitespace from each string.\n",
        "2. Convert all characters to lowercase.\n",
        "3. Remove any non-alphanumeric characters (except spaces).\n",
        "4. Replace multiple spaces with a single space.\n"
      ],
      "metadata": {
        "id": "toqM-sngGXXG"
      }
    },
    {
      "cell_type": "code",
      "source": [
        "raw_data = [\n",
        "    \"  Hello, World!   \",\n",
        "    \"Python   is Great.   \",\n",
        "    \"Data-Science? Is Amazing!!  \",\n",
        "    \" Clean    Your  DATA!!!   \",\n",
        "    \"EXtra     Spaces       Everywhere 123  \",\n",
        "    \"Mix3D      numb3r5 aND L3tt3rs!!!\"\n",
        "]\n"
      ],
      "metadata": {
        "id": "ulQwcbMJGPJM"
      },
      "execution_count": 4,
      "outputs": []
    },
    {
      "cell_type": "markdown",
      "source": [
        "## Goal:\n",
        "\n",
        "- Create a function clean_text that takes raw_data as input and returns a cleaned version of the list. The expected output should be:"
      ],
      "metadata": {
        "id": "Vx6KS9tdGfmt"
      }
    },
    {
      "cell_type": "code",
      "source": [
        "cleaned_data = [\n",
        "    \"hello world\",\n",
        "    \"python is great\",\n",
        "    \"data science is amazing\",\n",
        "    \"clean your data\",\n",
        "    \"extra spaces everywhere 123\",\n",
        "    \"mix3d numb3r5 and l3tt3rs\"\n",
        "]\n"
      ],
      "metadata": {
        "id": "_eswZSg2GdrV"
      },
      "execution_count": 5,
      "outputs": []
    },
    {
      "cell_type": "markdown",
      "source": [
        "## Exercise 1: Squaring Numbers\n",
        "- Input :numbers = [1, 2, 3, 4, 5]\n",
        "- Output: squared_numbers = [1, 4, 9, 16, 25]\n",
        "\n"
      ],
      "metadata": {
        "id": "tqEwkQLjGosc"
      }
    },
    {
      "cell_type": "markdown",
      "source": [
        "## Exercise 2: Filtering Even Numbers\n",
        "- Task: Given a list of numbers, create a new list containing only the even numbers."
      ],
      "metadata": {
        "id": "vlt0-jf_G23-"
      }
    },
    {
      "cell_type": "markdown",
      "source": [
        "- Input:\n",
        "- numbers = [1, 2, 3, 4, 5, 6, 7, 8, 9, 10]\n",
        "- Output:\n",
        "- even_numbers = [2, 4, 6, 8, 10]"
      ],
      "metadata": {
        "id": "Arjtv0Q8G7ee"
      }
    },
    {
      "cell_type": "markdown",
      "source": [
        "##Exercise 3: Extracting Initials\n",
        "-Task: Given a list of names, create a new list with the initials of each name.\n",
        "\n",
        "- Input:\n",
        "- names = [\"Alice Smith\", \"Bob Johnson\", \"Charlie Brown\"]\n",
        "- Output:\n",
        "- initials = [\"A.S.\", \"B.J.\", \"C.B.\"]"
      ],
      "metadata": {
        "id": "8Wj5dwB-HE5L"
      }
    },
    {
      "cell_type": "markdown",
      "source": [
        "## Exercise 4: Fahrenheit to Celsius\n",
        "- Task: Given a list of temperatures in Fahrenheit, create a new list with the temperatures converted to Celsius.\n",
        "\n",
        "- Input:\n",
        "fahrenheit = [32, 68, 100, 212]\n",
        "- Output:\n",
        "celsius = [0.0, 20.0, 37.77777777777778, 100.0]"
      ],
      "metadata": {
        "id": "Oqcxvo_mHTJC"
      }
    },
    {
      "cell_type": "markdown",
      "source": [
        "## Exercise 5: Flattening a List of Lists\n",
        "## Task: Given a list of lists, create a new flattened list containing all the elements.\n",
        "\n",
        "- Input:\n",
        "- list_of_lists = [[1, 2, 3], [4, 5], [6, 7, 8, 9]]\n",
        "- Output:\n",
        "\n",
        "- flattened_list = [1, 2, 3, 4, 5, 6, 7, 8, 9]"
      ],
      "metadata": {
        "id": "T-3LEJ2dHfGy"
      }
    },
    {
      "cell_type": "markdown",
      "source": [
        "## Exercise 7: Filtering Words by Length\n",
        "- Task: Given a list of words, create a new list containing only the words that are longer than 3 characters.\n",
        "\n",
        "- Input:\n",
        "words = [\"cat\", \"elephant\", \"dog\", \"tiger\"]\n",
        "- Output:\n",
        "long_words = [\"elephant\", \"tiger\"]"
      ],
      "metadata": {
        "id": "JhPM7CyTHurI"
      }
    },
    {
      "cell_type": "markdown",
      "source": [
        "## Exercise 8: Sum of a List\n",
        "- Task: Write a function sum_list that takes a list of numbers and returns the sum of those numbers."
      ],
      "metadata": {
        "id": "7vdAwO0vIPeo"
      }
    },
    {
      "cell_type": "markdown",
      "source": [
        "- Input:\n",
        "numbers = [1, 2, 3, 4, 5]\n",
        "- Output:\n",
        "sum_list(numbers)  # Output: 15"
      ],
      "metadata": {
        "id": "SLQhUqbAIUFG"
      }
    },
    {
      "cell_type": "markdown",
      "source": [
        "## Exercise 9: Count Occurrences\n",
        "- Task: Write a function count_occurrences that takes a list and an element, and returns the number of times the element appears in the list.\n",
        "\n",
        "- Input:\n",
        "elements = [1, 2, 2, 3, 4, 2, 5]\n",
        "element_to_count = 2\n",
        "- Output:\n",
        "count_occurrences(elements, element_to_count)  # Output: 3"
      ],
      "metadata": {
        "id": "42tFLkQLIbKQ"
      }
    },
    {
      "cell_type": "markdown",
      "source": [
        "## Exercise 10: Remove Duplicates\n",
        "- Task: Write a function remove_duplicates that takes a list and returns a new list with duplicates removed, preserving the order of the first occurrence of each element.\n",
        "\n",
        "- Input:\n",
        "items = [1, 2, 2, 3, 4, 4, 5]\n",
        "- Output:\n",
        "remove_duplicates(items)  # Output: [1, 2, 3, 4, 5]"
      ],
      "metadata": {
        "id": "PkJkpD9kInTQ"
      }
    },
    {
      "cell_type": "code",
      "source": [],
      "metadata": {
        "id": "CIyVeSI8HQsK"
      },
      "execution_count": null,
      "outputs": []
    }
  ]
}